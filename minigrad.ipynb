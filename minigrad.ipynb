{
 "cells": [
  {
   "cell_type": "markdown",
   "metadata": {},
   "source": [
    "# Mini Imlemetation of Autograd from PyTorch"
   ]
  },
  {
   "cell_type": "markdown",
   "metadata": {},
   "source": [
    "## What is Autograd? (Step-by-Step Explanation)\n",
    "\n",
    "Autograd, short for **Automatic Differentiation**, is a core feature of modern machine learning frameworks like PyTorch and TensorFlow. It **automatically computes gradients** (i.e., derivatives) of outputs with respect to inputs — which is essential for training machine learning models.\n",
    "\n",
    "Let’s break it down with a simple, clear example.\n",
    "\n",
    "---\n",
    "\n",
    "###  Example Function\n",
    "\n",
    "Suppose we define a function:\n",
    "\n",
    "> `f(x) = sin(x² + 1)`\n",
    "\n",
    "This can be broken down into **two smaller functions**:\n",
    "\n",
    "- `g(x) = x² + 1`\n",
    "- `h(z) = sin(z)` where `z = g(x)`\n",
    "\n",
    "So overall:\n",
    "\n",
    "> `f(x) = h(g(x))`\n",
    "\n",
    "---\n",
    "\n",
    "###  Chain Rule Refresher\n",
    "\n",
    "We want to find how `f(x)` changes when `x` changes — this is the **gradient** or **derivative**: `df/dx`.\n",
    "\n",
    "Using the **chain rule** from calculus:\n",
    "\n",
    "> `df/dx = (df/dg) × (dg/dx)`\n",
    "\n",
    "Step-by-step:\n",
    "- `dg/dx = 2x` (since `g(x) = x² + 1`)\n",
    "- `df/dg = cos(g(x))` (since `f = sin(g)`)\n",
    "\n",
    "So,\n",
    "\n",
    "> `df/dx = cos(x² + 1) * 2x`\n",
    "\n",
    "---\n",
    "\n",
    "###  What Autograd Does Internally\n",
    "\n",
    "When you write code like this:\n",
    "\n",
    "```python\n",
    "x = torch.tensor(2.0, requires_grad=True)\n",
    "g = x**2 + 1\n",
    "f = torch.sin(g)\n",
    "f.backward()\n",
    "print(x.grad)\n",
    "```\n",
    "\n",
    "Sure! Here's the full explanation in clean, copy-paste ready **Markdown** format for your notebook:\n",
    "\n",
    "---\n",
    "\n",
    "```markdown\n",
    "## 🔁 What Does Autograd Really Do? (No Jargon)\n",
    "\n",
    "Let’s say you’re doing some math in code like this:\n",
    "\n",
    "```python\n",
    "x = torch.tensor(2.0, requires_grad=True)\n",
    "g = x**2 + 1\n",
    "f = torch.sin(g)\n",
    "```\n",
    "\n",
    "Autograd watches every operation you perform.  \n",
    "When it sees you do something like `x**2` or `+1`, it doesn’t just calculate the result — it also **remembers** how that result was made.\n",
    "\n",
    "For **each step**, autograd saves:\n",
    "\n",
    "1. The **input values** used in the operation  \n",
    "2. The **function or operation** applied (like square, addition, sine)  \n",
    "3. The **output result** of the operation  \n",
    "4. And which variable the output was assigned to (like `g`, `f`)\n",
    "\n",
    "So autograd builds a kind of **memory or trace** of how each value depends on the ones before it. This called a **Computational Graph**.\n",
    "\n",
    "**Then What Happens?**\n",
    "\n",
    "When you finally call:\n",
    "\n",
    "```python\n",
    "f.backward()\n",
    "```\n",
    "\n",
    "Autograd goes back through all the steps it saved, in reverse order, **(Backpropogation)** and:\n",
    "\n",
    "- Figures out how much each step contributed to the final result  \n",
    "- Computes how the final output (`f`) changes with respect to earlier values like `x`  \n",
    "- Eventually gives you the **gradient**: how sensitive `f` is to small changes in `x`\n",
    "\n",
    "You don’t need to tell it how to do this — it figures it out using the information it remembered from your code.\n",
    "\n",
    "\n"
   ]
  },
  {
   "cell_type": "code",
   "execution_count": 22,
   "metadata": {},
   "outputs": [],
   "source": [
    "import math\n",
    "import numpy as np\n",
    "import matplotlib.pyplot as plt"
   ]
  },
  {
   "cell_type": "code",
   "execution_count": 23,
   "metadata": {},
   "outputs": [],
   "source": [
    "# Let's first see what we are trying to do. We difine soem function f that takes in a scalar and gives out a scalar\n",
    "\n",
    "def f(x):\n",
    "    return x**2 +1\n",
    "\n"
   ]
  },
  {
   "cell_type": "code",
   "execution_count": 24,
   "metadata": {},
   "outputs": [
    {
     "data": {
      "text/plain": [
       "10"
      ]
     },
     "execution_count": 24,
     "metadata": {},
     "output_type": "execute_result"
    }
   ],
   "source": [
    "# Testing the function\n",
    "f(3)"
   ]
  },
  {
   "cell_type": "code",
   "execution_count": 25,
   "metadata": {},
   "outputs": [
    {
     "data": {
      "text/plain": [
       "[<matplotlib.lines.Line2D at 0x1302c6e20>]"
      ]
     },
     "execution_count": 25,
     "metadata": {},
     "output_type": "execute_result"
    },
    {
     "data": {
      "image/png": "[encoded data removed]",
      "text/plain": [
       "<Figure size 640x480 with 1 Axes>"
      ]
     },
     "metadata": {},
     "output_type": "display_data"
    }
   ],
   "source": [
    "# Let's see how this function looks by plotting it\n",
    "\n",
    "x = np.arange(-5, 5, 0.25)\n",
    "y = f(x)\n",
    "\n",
    "plt.plot(x,y)\n"
   ]
  },
  {
   "cell_type": "code",
   "execution_count": 26,
   "metadata": {},
   "outputs": [],
   "source": [
    "# what's the derivative of this function at any given point. (Basically gives the slope)\n",
    "\n",
    "def derivative(x, f, h):\n",
    "    return (f(x+h) - f(x))/h"
   ]
  },
  {
   "cell_type": "code",
   "execution_count": 27,
   "metadata": {},
   "outputs": [
    {
     "data": {
      "text/plain": [
       "6.000100000012054"
      ]
     },
     "execution_count": 27,
     "metadata": {},
     "output_type": "execute_result"
    }
   ],
   "source": [
    "h = 0.0001\n",
    "x = 3.0\n",
    "derivative(x,f,h)"
   ]
  },
  {
   "cell_type": "code",
   "execution_count": 28,
   "metadata": {},
   "outputs": [
    {
     "data": {
      "text/plain": [
       "-5.99990000001327"
      ]
     },
     "execution_count": 28,
     "metadata": {},
     "output_type": "execute_result"
    }
   ],
   "source": [
    "x = -3\n",
    "derivative(x,f,h)"
   ]
  },
  {
   "cell_type": "code",
   "execution_count": 29,
   "metadata": {},
   "outputs": [
    {
     "data": {
      "text/plain": [
       "9.99999993922529e-05"
      ]
     },
     "execution_count": 29,
     "metadata": {},
     "output_type": "execute_result"
    }
   ],
   "source": [
    "x = 0\n",
    "derivative(x,f,h)"
   ]
  },
  {
   "cell_type": "code",
   "execution_count": 30,
   "metadata": {},
   "outputs": [],
   "source": [
    "# Let's define a new function\n",
    "def g(x):\n",
    "    return math.sin(x)"
   ]
  },
  {
   "cell_type": "code",
   "execution_count": 31,
   "metadata": {},
   "outputs": [],
   "source": [
    "# let's take a series of mathematical operations, basically y = g(f(x)) = sin(x**2 + 1)\n",
    "x = 3.0\n",
    "a = f(x)\n",
    "y = g(a)"
   ]
  },
  {
   "cell_type": "code",
   "execution_count": 32,
   "metadata": {},
   "outputs": [
    {
     "name": "stdout",
     "output_type": "stream",
     "text": [
      "10.0\n",
      "-0.5440211108893698\n"
     ]
    }
   ],
   "source": [
    "print(a)\n",
    "print(y)"
   ]
  },
  {
   "cell_type": "markdown",
   "metadata": {},
   "source": [
    "Now we want dy/dx... how is y changing with respect to x at a given point x. For that we use chain rule: dy/dx = dy/da * da/dx"
   ]
  },
  {
   "cell_type": "code",
   "execution_count": 33,
   "metadata": {},
   "outputs": [
    {
     "data": {
      "text/plain": [
       "-0.8390443266204084"
      ]
     },
     "execution_count": 33,
     "metadata": {},
     "output_type": "execute_result"
    }
   ],
   "source": [
    "d_ya = derivative(a,g,h)\n",
    "d_ya"
   ]
  },
  {
   "cell_type": "code",
   "execution_count": 34,
   "metadata": {},
   "outputs": [
    {
     "data": {
      "text/plain": [
       "6.000100000012054"
      ]
     },
     "execution_count": 34,
     "metadata": {},
     "output_type": "execute_result"
    }
   ],
   "source": [
    "d_ax = derivative(x,f,h)\n",
    "d_ax"
   ]
  },
  {
   "cell_type": "code",
   "execution_count": 35,
   "metadata": {},
   "outputs": [
    {
     "data": {
      "text/plain": [
       "-5.034349864165226"
      ]
     },
     "execution_count": 35,
     "metadata": {},
     "output_type": "execute_result"
    }
   ],
   "source": [
    "d_yx = d_ya * d_ax\n",
    "d_yx"
   ]
  },
  {
   "cell_type": "markdown",
   "metadata": {},
   "source": [
    "As you can see as long at each step we know what the function and inputs are we can get the derivatives and then just multiply them in the end (Back propagation). For calculating the actual output y (forward pass) also we just need inputs and the function and pass it to further steps."
   ]
  },
  {
   "cell_type": "markdown",
   "metadata": {},
   "source": [
    "### Let's now transition to Neural Networks"
   ]
  },
  {
   "cell_type": "markdown",
   "metadata": {},
   "source": [
    "### Why Do We Use Gradients and Backpropagation?\n",
    "\n",
    "When we build a machine learning model, especially a neural network, we want it to **learn from data**. The model starts with some initial guesses for its parameters (called weights and biases), and we want to adjust these parameters so the model becomes better at making predictions.\n",
    "\n",
    "But here's the key question:  \n",
    "**\"How do we know which direction to change the weights?\"**  \n",
    "That’s where **gradients** come in.\n",
    "\n",
    "Gradients tell us **how much the output (like error or loss) changes if we slightly change a parameter**. If increasing a weight increases the loss, we know we should decrease that weight — and vice versa. This idea is the backbone of **gradient descent**, which updates each weight in the direction that reduces the loss.\n",
    "\n",
    "---\n",
    "\n",
    "### The Role of Loss Functions and Activation Functions\n",
    "\n",
    "To train a model, we need to define what it means to do well — that's what the **loss function** does. It compares the model's prediction to the true answer and gives a number (the \"loss\") that tells us how wrong the model was. The goal of learning is to **minimize this loss** over time.\n",
    "\n",
    "In between, we use **activation functions** like `ReLU`, `sigmoid`, or `tanh` to introduce **non-linearity** into the model. Without them, the entire network would just be a fancy linear function — unable to learn complex patterns like curves, edges, or language.\n",
    "\n",
    "---\n",
    "\n",
    "### Putting It All Together with Backpropagation\n",
    "\n",
    "Now comes the magic: **backpropagation** is the algorithm that **uses the chain rule from calculus to calculate the gradient of the loss with respect to every parameter** in the network. It works by going backward from the final output to the inputs — step by step — and figuring out how each parameter contributed to the loss.\n",
    "\n",
    "Once we know those gradients, we update the parameters just a little bit in the right direction. Repeat this process over many examples and epochs, and the model improves — learning from its mistakes just like we do.\n",
    "\n",
    "---\n",
    "\n",
    "In the following cells, we'll build a simplified version of this process using 1D vectors — to see **how gradients flow through operations** and how we can use them to train a simple model from scratch.\n"
   ]
  },
  {
   "cell_type": "code",
   "execution_count": 40,
   "metadata": {},
   "outputs": [],
   "source": [
    "## First lets define a class that stores ID vector data\n",
    "\n",
    "class Tensor1D:\n",
    "    def __init__(self, data):\n",
    "        # Store the data (1D vector as a NumPy array)\n",
    "        self.data = np.array(data, dtype=float)\n",
    "\n",
    "    def __repr__(self):\n",
    "        return f\"Tensor1D(data={self.data})\"\n"
   ]
  },
  {
   "cell_type": "code",
   "execution_count": 41,
   "metadata": {},
   "outputs": [
    {
     "data": {
      "text/plain": [
       "Tensor1D(data=[1. 2. 3.])"
      ]
     },
     "execution_count": 41,
     "metadata": {},
     "output_type": "execute_result"
    }
   ],
   "source": [
    "Tensor1D([1.0, 2.0, 3.0])"
   ]
  },
  {
   "cell_type": "code",
   "execution_count": 42,
   "metadata": {},
   "outputs": [
    {
     "ename": "TypeError",
     "evalue": "unsupported operand type(s) for +: 'Tensor1D' and 'Tensor1D'",
     "output_type": "error",
     "traceback": [
      "\u001b[0;31m---------------------------------------------------------------------------\u001b[0m",
      "\u001b[0;31mTypeError\u001b[0m                                 Traceback (most recent call last)",
      "Cell \u001b[0;32mIn[42], line 4\u001b[0m\n\u001b[1;32m      1\u001b[0m a \u001b[38;5;241m=\u001b[39m Tensor1D([\u001b[38;5;241m1.0\u001b[39m, \u001b[38;5;241m2.0\u001b[39m, \u001b[38;5;241m3.0\u001b[39m])\n\u001b[1;32m      2\u001b[0m b \u001b[38;5;241m=\u001b[39m Tensor1D([\u001b[38;5;241m4.0\u001b[39m, \u001b[38;5;241m5.0\u001b[39m, \u001b[38;5;241m6.0\u001b[39m])\n\u001b[0;32m----> 4\u001b[0m c \u001b[38;5;241m=\u001b[39m \u001b[43ma\u001b[49m\u001b[43m \u001b[49m\u001b[38;5;241;43m+\u001b[39;49m\u001b[43m \u001b[49m\u001b[43mb\u001b[49m\n",
      "\u001b[0;31mTypeError\u001b[0m: unsupported operand type(s) for +: 'Tensor1D' and 'Tensor1D'"
     ]
    }
   ],
   "source": [
    "a = Tensor1D([1.0, 2.0, 3.0])\n",
    "b = Tensor1D([4.0, 5.0, 6.0])\n",
    "\n",
    "c = a + b"
   ]
  },
  {
   "cell_type": "code",
   "execution_count": 50,
   "metadata": {},
   "outputs": [],
   "source": [
    "# We need to define some operations to be performed\n",
    "# Addition where a + b --> a.__add__(b) where a is an instance of Tensor1D. Even if b is a scalar, we want to broadcast. Or even if it's a list we can add. So let's covert b\n",
    "# similarly Multiplication\n",
    "## As we'll be using this for Neural nets let's add ReLU too\n",
    "\n",
    "class Tensor1D:\n",
    "    def __init__(self, data):\n",
    "        # Store the data (1D vector as a NumPy array)\n",
    "        self.data = np.array(data, dtype=float)\n",
    "\n",
    "    def __repr__(self):\n",
    "        return f\"Tensor1D(data={self.data})\"\n",
    "    \n",
    "    def __add__(self, other):\n",
    "        # Convert to Tensor1D if other is a number or list\n",
    "        other = other if isinstance(other, Tensor1D) else Tensor1D(other)\n",
    "        out = Tensor1D(self.data + other.data)  # element wise... numpy arrays\n",
    "        return out\n",
    "\n",
    "    def __mul__(self, other):\n",
    "        # Convert to Tensor1D if other is a number or list\n",
    "        other = other if isinstance(other, Tensor1D) else Tensor1D(other)\n",
    "        out = Tensor1D(self.data * other.data)  # element wise... numpy arrays\n",
    "        return out\n",
    "    \n",
    "    def relu(self):\n",
    "        out = Tensor1D(np.maximum(0, self.data))\n",
    "        print(out)\n",
    "        return out"
   ]
  },
  {
   "cell_type": "code",
   "execution_count": 53,
   "metadata": {},
   "outputs": [
    {
     "name": "stdout",
     "output_type": "stream",
     "text": [
      "Tensor1D(data=[0.  4.5 9. ])\n"
     ]
    },
    {
     "data": {
      "text/plain": [
       "Tensor1D(data=[0.  4.5 9. ])"
      ]
     },
     "execution_count": 53,
     "metadata": {},
     "output_type": "execute_result"
    }
   ],
   "source": [
    "a = Tensor1D([1.0, 2.0, 3.0])\n",
    "b = Tensor1D([-3.0, 2.5, 6.0])\n",
    "\n",
    "c = a + b\n",
    "c.relu()"
   ]
  },
  {
   "cell_type": "code",
   "execution_count": 65,
   "metadata": {},
   "outputs": [],
   "source": [
    "# We can use these to calculate the final value from forward pass but what about gradients... lets now implement teh backward part for each operation.\n",
    "\n",
    "class Tensor1D:\n",
    "    def __init__(self, data, _children=(), _op=''):\n",
    "        # Store the data (1D vector as a NumPy array)\n",
    "        self.data = np.array(data, dtype=float)\n",
    "\n",
    "        # Initialize gradient (same shape as data), filled with zeros\n",
    "        self.grad = np.zeros_like(self.data)\n",
    "\n",
    "        # Placeholder function to define how to backpropagate through this operation\n",
    "        self._backward = lambda: None\n",
    "\n",
    "        # References to previous Tensors that created this one (for tracing back during backward())\n",
    "        self._prev = _children\n",
    "\n",
    "        # String to describe the operation that created this tensor (optional, for debugging)\n",
    "        self._op = _op\n",
    "\n",
    "    def __repr__(self):\n",
    "        return f\"Tensor1D(data={self.data})\"\n",
    "    \n",
    "    def __add__(self, other):\n",
    "        # Convert to Tensor1D if other is a number or list\n",
    "        other = other if isinstance(other, Tensor1D) else Tensor1D(other)\n",
    "        out = Tensor1D(self.data + other.data)  # element wise... numpy arrays\n",
    "\n",
    "        def _backward():\n",
    "            self.grad += out.grad  #d(out)/d(self) = 1\n",
    "            other.grad += out.grad #d(out)/d(other) = 1\n",
    "        out._backward = _backward\n",
    "        \n",
    "        return out\n",
    "\n",
    "    def __mul__(self, other):\n",
    "        # Convert to Tensor1D if other is a number or list\n",
    "        other = other if isinstance(other, Tensor1D) else Tensor1D(other)\n",
    "        out = Tensor1D(self.data * other.data)  # element wise... numpy arrays\n",
    "\n",
    "        def _backward():\n",
    "            self.grad += self.data * out.grad  #d(out)/d(self) = self.grad\n",
    "            other.grad += other.data * out.grad #d(out)/d(other) = self.other\n",
    "        out._backward = _backward\n",
    "        \n",
    "        return out\n",
    "    \n",
    "    def sum(self):\n",
    "        out = Tensor1D(np.array(np.sum(self.data)))\n",
    "        # The gradient of a sum operation is just a vector of ones, because each element contributes equally\n",
    "        def _backward():\n",
    "            self.grad += np.ones_like(self.data) * out.grad  #∂sum/∂x₀ = 1, ∂sum/∂x₁ = 1, ∂sum/∂x₂ = 1....\n",
    "        out._backward = _backward\n",
    "\n",
    "        return out\n",
    "    \n",
    "    def backward(self):\n",
    "        pass\n",
    "    \n",
    "    def relu(self):\n",
    "        out = Tensor1D(np.maximum(0, self.data))\n",
    "        print(out)\n",
    "\n",
    "        def _backward():\n",
    "            relu_grad = (self.data > 0).astype(float) #d(out)/d(self)\n",
    "            self.grad += relu_grad * out.grad\n",
    "        out._backward = _backward \n",
    "        \n",
    "        return out"
   ]
  },
  {
   "cell_type": "code",
   "execution_count": 66,
   "metadata": {},
   "outputs": [
    {
     "name": "stdout",
     "output_type": "stream",
     "text": [
      "Tensor1D(data=[0. 0. 0. 1. 2.])\n",
      "x.grad: [0. 0. 0. 0. 0.]\n"
     ]
    }
   ],
   "source": [
    "x = Tensor1D([-2.0, -1.0, 0.0, 1.0, 2.0])\n",
    "y = x.relu().sum()\n",
    "y.backward()\n",
    "\n",
    "print(\"x.grad:\", x.grad)"
   ]
  },
  {
   "cell_type": "markdown",
   "metadata": {},
   "source": [
    "### Backward function:\n",
    "\n",
    "We have to first know thow the variables are related. That is we have to build a computation graph and then traverse to calculate the gradients. We will use Depth first Search algorithm for this."
   ]
  },
  {
   "cell_type": "code",
   "execution_count": null,
   "metadata": {},
   "outputs": [],
   "source": []
  },
  {
   "cell_type": "code",
   "execution_count": null,
   "metadata": {},
   "outputs": [],
   "source": []
  }
 ],
 "metadata": {
  "kernelspec": {
   "display_name": "u19_vae",
   "language": "python",
   "name": "python3"
  },
  "language_info": {
   "codemirror_mode": {
    "name": "ipython",
    "version": 3
   },
   "file_extension": ".py",
   "mimetype": "text/x-python",
   "name": "python",
   "nbconvert_exporter": "python",
   "pygments_lexer": "ipython3",
   "version": "3.9.18"
  }
 },
 "nbformat": 4,
 "nbformat_minor": 2
}
